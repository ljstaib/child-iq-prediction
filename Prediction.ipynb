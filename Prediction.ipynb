{
 "cells": [
  {
   "cell_type": "markdown",
   "id": "280a388e",
   "metadata": {},
   "source": [
    "# Prediction Process and Models"
   ]
  },
  {
   "cell_type": "code",
   "execution_count": null,
   "id": "e5b5c05e",
   "metadata": {},
   "outputs": [],
   "source": [
    "# Imports\n",
    "\n",
    "import matplotlib.pyplot as plt\n",
    "import numpy as np\n",
    "import pandas as pd\n",
    "import seaborn as sns\n",
    "from sklearn.linear_model import LinearRegression\n",
    "from sklearn.preprocessing import MinMaxScaler\n",
    "from statistics import mean\n",
    "import statsmodels.formula.api as smf"
   ]
  },
  {
   "cell_type": "markdown",
   "id": "9b964066",
   "metadata": {},
   "source": [
    "# Task 1: Data Prepration"
   ]
  },
  {
   "cell_type": "code",
   "execution_count": null,
   "id": "264183e5",
   "metadata": {},
   "outputs": [],
   "source": [
    "# Convert data.txt to a pandas dataframe\n",
    "# pre_df is the raw data from data.txt without organization\n",
    "\n",
    "pre_df = pd.read_csv(\"data.txt\", sep=\"|\", header=None, names=[\"ID\", \"Variable\", \"Value\"])\n",
    "pre_df = pre_df.drop(pre_df.index[0]) # Drop original headers\n",
    "pre_df = pre_df.drop(pre_df.index[894]) # Drop line with erroneous text\n",
    "\n",
    "pre_df.head()"
   ]
  },
  {
   "cell_type": "code",
   "execution_count": null,
   "id": "f0bbb6b6",
   "metadata": {},
   "outputs": [],
   "source": [
    "# Data fields are i, a, h, w, and score: need 5 columns\n",
    "# Need (len(df) / 5) rows = 2170 / 5 = 434\n",
    "\n",
    "cols = 5\n",
    "rows = len(pre_df) // cols\n",
    "f'Rows needed: {rows}'"
   ]
  },
  {
   "cell_type": "code",
   "execution_count": null,
   "id": "e01239c7",
   "metadata": {},
   "outputs": [],
   "source": [
    "# Create 434x5 dataframe and populate it with contents of pre_df\n",
    "\n",
    "df = pd.DataFrame()\n",
    "\n",
    "for r in range(rows):\n",
    "    curr_row = {\n",
    "        \"child_iq\": pre_df.iloc[r+rows*0]['Value'],\n",
    "        \"mother_age\": pre_df.iloc[r+rows*4]['Value'],\n",
    "        \"mother_hs\": pre_df.iloc[r+rows*1]['Value'],\n",
    "        \"mother_iq\": pre_df.iloc[r+rows*2]['Value'],\n",
    "        \"mother_work\": pre_df.iloc[r+rows*3]['Value']\n",
    "    }\n",
    "    \n",
    "    df = df.append(curr_row, ignore_index=True)\n",
    "\n",
    "df.head()"
   ]
  },
  {
   "cell_type": "markdown",
   "id": "c8c83ae0",
   "metadata": {},
   "source": [
    "# Task 2: Data Transformation"
   ]
  },
  {
   "cell_type": "code",
   "execution_count": null,
   "id": "b0f7aba9",
   "metadata": {},
   "outputs": [],
   "source": [
    "# Check for null values\n",
    "\n",
    "for c in df.columns:\n",
    "    print(f'Column \\\"{c}\\\" has {df[c].isnull().sum()} null values.')\n",
    "\n",
    "# There are no null values in this dataframe, so there is no need to handle null values"
   ]
  },
  {
   "cell_type": "code",
   "execution_count": null,
   "id": "b2178ae8",
   "metadata": {},
   "outputs": [],
   "source": [
    "# Change some fields from string to float\n",
    "\n",
    "df['mother_iq'] = df['mother_iq'].str.replace(\"'\",\"\") # Remove apostrophes\n",
    "df['mother_iq'] = df['mother_iq'].astype(float) # Convert to float\n",
    "\n",
    "df['child_iq'] = df['child_iq'].astype(float)\n",
    "df['mother_age'] = df['mother_age'].astype(float)\n",
    "\n",
    "df.head()"
   ]
  },
  {
   "cell_type": "code",
   "execution_count": null,
   "id": "cbdaebf7",
   "metadata": {
    "scrolled": true
   },
   "outputs": [],
   "source": [
    "# Make a dataframe for normalized data so that numerical values (child IQ, mother age, mother IQ) fall between 0 and 1\n",
    "# This dataframe will be used for creating prediction models\n",
    "\n",
    "df_original = df.copy() # This will be used for some exploratory data analysis\n",
    "\n",
    "mm_scaler = MinMaxScaler()\n",
    "df[['child_iq', 'mother_age', 'mother_iq']] = mm_scaler.fit_transform(df[['child_iq', 'mother_age', 'mother_iq']])\n",
    "\n",
    "# Convert mother education and mother workload to type string\n",
    "df['mother_hs'] = df['mother_hs'].astype(str)\n",
    "df['mother_work'] = df['mother_work'].astype(str)\n",
    "\n",
    "df.head()"
   ]
  },
  {
   "cell_type": "markdown",
   "id": "6790a08c",
   "metadata": {},
   "source": [
    "# Task 1 and 2 Comments:\n",
    "\n",
    "- Created dataframe `pre_df` and then transformed it into `df`\n",
    "    - Loaded raw data and then organized it into intended columns\n",
    "    - Given 2170 valid data entries and 5 columns, created 434 rows\n",
    "    - Rows were created by treating each 434 data entries as a column\n",
    "        - For example: the first row used indices 0, 434, 868, 1302, and 1736; the second used indices 1, 435, 869, 1303, and 1737; and etc.\n",
    "- Original variables were renamed for readability\n",
    "- Child IQ (`child_iq`), mother IQ (`mother_iq`), and mother age (`mother_age`) were normalized to be floats between 0-1 (to be used in task 4)\n",
    "- Mother education (`mother_hs`) and mother workload (`mother_work`) were converted to strings to be used as categorical variables\n",
    "- Checked for null values just in case"
   ]
  },
  {
   "cell_type": "markdown",
   "id": "64dbfc6f",
   "metadata": {},
   "source": [
    "# Task 3: Exploratory Data Analysis"
   ]
  },
  {
   "cell_type": "code",
   "execution_count": null,
   "id": "91066754",
   "metadata": {},
   "outputs": [],
   "source": [
    "# Get boxplots of child IQ's, mother IQ's, and mother ages\n",
    "\n",
    "boxplot = df_original.boxplot(column=['child_iq', 'mother_age', 'mother_iq'])\n",
    "boxplot.set_title('Child IQ, Mother IQ, and Mother Age Boxplots')"
   ]
  },
  {
   "cell_type": "code",
   "execution_count": null,
   "id": "d6b73e80",
   "metadata": {},
   "outputs": [],
   "source": [
    "def print_stats(col_name):\n",
    "    print(col_name, \"median:\", df_original[col_name].median())\n",
    "    print(col_name, \"mean:\", df_original[col_name].mean())\n",
    "    print(col_name, \"range:\", df_original[col_name].max() - df_original[col_name].min(), \"\\n\")\n",
    "\n",
    "print_stats('child_iq')\n",
    "print_stats('mother_iq')\n",
    "print_stats('mother_age')"
   ]
  },
  {
   "cell_type": "markdown",
   "id": "bb812e87",
   "metadata": {},
   "source": [
    "- Children in this dataset have a wide range of IQ's, outliers skew the mean below the median\n",
    "- Mothers in this dataset have the smaller range of IQ's, on average higher than their children\n",
    "- Mothers have an average age of 23, range is 17 to 29"
   ]
  },
  {
   "cell_type": "code",
   "execution_count": null,
   "id": "20d796a9",
   "metadata": {},
   "outputs": [],
   "source": [
    "# Observe child IQ distribution, 40 bins\n",
    "\n",
    "ax = sns.displot(df_original['child_iq'], kde=False, bins=40)\n",
    "ax.set(xlabel='Child IQ', ylabel='Number of Children', title='Child IQ Distribution')"
   ]
  },
  {
   "cell_type": "code",
   "execution_count": null,
   "id": "201719a2",
   "metadata": {},
   "outputs": [],
   "source": [
    "# Compare average child IQ based on if a mother graduated high school\n",
    "\n",
    "# Create bar graph\n",
    "x = [0.5, 1.5]\n",
    "y = df_original.groupby('mother_hs')['child_iq'].mean()\n",
    "\n",
    "fig, ax = plt.subplots()\n",
    "\n",
    "bars = ax.bar(x, y, width=0.5)\n",
    "ax.set(xlim=(0, 2), ylim=(0, 100))\n",
    "plt.xticks(x, ['No high school education', 'High school education'])\n",
    "ax.set_ylabel('Child IQ')\n",
    "ax.set_title('Average Child IQ grouped by Mother Education')\n",
    "\n",
    "bars[0].set_color('r')\n",
    "bars[1].set_color('b')\n",
    "\n",
    "plt.show()"
   ]
  },
  {
   "cell_type": "markdown",
   "id": "ec9b20d4",
   "metadata": {},
   "source": [
    "Average child IQ is higher with mothers who graduated high school versus those who did not graduate high school."
   ]
  },
  {
   "cell_type": "code",
   "execution_count": null,
   "id": "f051190c",
   "metadata": {},
   "outputs": [],
   "source": [
    "# Compare mother age and child IQ\n",
    "\n",
    "df_original.groupby('mother_age')['child_iq'].mean().plot.bar(xlabel='Mother Age', ylabel='Child IQ', title='Average Child IQ by Mother Age')"
   ]
  },
  {
   "cell_type": "markdown",
   "id": "5d846655",
   "metadata": {},
   "source": [
    "This graph shows no significant trend between a mother's age and her child's IQ."
   ]
  },
  {
   "cell_type": "code",
   "execution_count": null,
   "id": "a31c9953",
   "metadata": {},
   "outputs": [],
   "source": [
    "# Create new column, categorize mother age into 3 bins and compare to child IQ\n",
    "\n",
    "bin_range = int(df_original['mother_age'].max() - df_original['mother_age'].min())\n",
    "bins = list(range(int(df_original['mother_age'].min()), int(df_original['mother_age'].max())+1, bin_range // 3))\n",
    "\n",
    "labels = [0, 0.5, 1]\n",
    "\n",
    "df_original['mother_age_group'] = pd.cut(df_original['mother_age'], bins=bins, labels=labels, right=False)\n",
    "df['mother_age_group'] = df_original['mother_age_group']\n",
    "\n",
    "x = [0.5, 1.5, 2.5]\n",
    "y = df_original.groupby('mother_age_group')['child_iq'].mean()\n",
    "\n",
    "fig, ax = plt.subplots()\n",
    "\n",
    "bars = ax.bar(x, y, width=0.5)\n",
    "ax.set(xlim=(0, 3), ylim=(0, 100))\n",
    "plt.xticks(x, ['Age 17 to 20', 'Age 21 to 24', 'Age 25 to 29'])\n",
    "ax.set_xlabel('Mother\\'s Age Group')\n",
    "ax.set_ylabel('Child IQ')\n",
    "ax.set_title('Average Child IQ by Mother Age Group')\n",
    "\n",
    "bars[0].set_color('y')\n",
    "bars[1].set_color('orange')\n",
    "bars[2].set_color('r')\n",
    "\n",
    "plt.show()"
   ]
  },
  {
   "cell_type": "markdown",
   "id": "893b09b8",
   "metadata": {},
   "source": [
    "By categorizing mother age, it seems that child IQ increases slightly based on age group of the mother."
   ]
  },
  {
   "cell_type": "code",
   "execution_count": null,
   "id": "f4847e68",
   "metadata": {},
   "outputs": [],
   "source": [
    "# Compare average child IQ based on mother workload\n",
    "\n",
    "# Create bar graph\n",
    "x = [0.5, 1.5, 2.5, 3.5]\n",
    "y = df_original.groupby('mother_work')['child_iq'].mean()\n",
    "\n",
    "fig, ax = plt.subplots()\n",
    "\n",
    "bars = ax.bar(x, y, width=0.5)\n",
    "ax.set(xlim=(0, 4), ylim=(0, 100))\n",
    "plt.xticks(x, ['Type 1', 'Type 2', 'Type 3', 'Type 4'])\n",
    "ax.set_xlabel('Mother\\'s Workload (See types below)')\n",
    "ax.set_ylabel('Child IQ')\n",
    "ax.set_title('Average Child IQ based on Mother\\'s Workload')\n",
    "\n",
    "bars[0].set_color('r')\n",
    "bars[1].set_color('b')\n",
    "bars[2].set_color('g')\n",
    "bars[3].set_color('y')\n",
    "\n",
    "plt.show()"
   ]
  },
  {
   "cell_type": "markdown",
   "id": "4e69c8a0",
   "metadata": {},
   "source": [
    "#### Types:\n",
    "\n",
    "- Type 1: \"Mother did not work in first three years of child's life\"\n",
    "- Type 2: \"Mother worked in second or third year of child's life\"\n",
    "- Type 3: \"Mother worked part-time in first year of child's life\"\n",
    "- Type 4: \"Mother worked full-time in first year of child's life\""
   ]
  },
  {
   "cell_type": "markdown",
   "id": "4715bcbb",
   "metadata": {},
   "source": [
    "It seems that the workload of a mother does not have a noticeable effect on the IQ of her child."
   ]
  },
  {
   "cell_type": "code",
   "execution_count": null,
   "id": "059b9f32",
   "metadata": {},
   "outputs": [],
   "source": [
    "# Education and workload, create a categorical column using data from both\n",
    "\n",
    "df['mother_edu_work'] = (df_original['mother_work'].astype(float) - df_original['mother_hs'].astype(float)) \n",
    "\n",
    "# Convert to string\n",
    "df['mother_edu_work'] = df['mother_edu_work'].astype(str)\n",
    "\n",
    "# Examples:\n",
    "# Type 4 (4) - no high school (0) = 4 (highest)\n",
    "# Type 1 (1) - high school (1) = 0 (lowest)"
   ]
  },
  {
   "cell_type": "code",
   "execution_count": null,
   "id": "1fc5e4bf",
   "metadata": {},
   "outputs": [],
   "source": [
    "# Compare mother IQ and child IQ\n",
    "\n",
    "# Plot data\n",
    "plt_iq = df_original.groupby('mother_iq')['child_iq'].mean().plot(xlabel='Mother IQ', ylabel='Child IQ', title='Average Child IQ based on Mother IQ')\n",
    "\n",
    "# Add trend line\n",
    "x = plt_iq.lines[0].get_xdata()\n",
    "y = plt_iq.lines[0].get_ydata()\n",
    "\n",
    "fit = np.polyfit(x, y, 1)\n",
    "line = np.poly1d(fit)\n",
    "\n",
    "plt_iq.plot(x, line(x))"
   ]
  },
  {
   "cell_type": "markdown",
   "id": "f9af43ab",
   "metadata": {},
   "source": [
    "Generally, as mother IQ increases, so does child IQ."
   ]
  },
  {
   "cell_type": "code",
   "execution_count": null,
   "id": "c55f30ed",
   "metadata": {},
   "outputs": [],
   "source": [
    "# Check data correlation between numerical columns\n",
    "\n",
    "corr_vals = df.corr()\n",
    "corr_vals\n",
    "sns.heatmap(corr_vals, cmap=\"mako\", annot=True)"
   ]
  },
  {
   "cell_type": "markdown",
   "id": "e7cbc43d",
   "metadata": {},
   "source": [
    "No columns are strongly correlated (value > 0.7) to each other. Mother IQ is more strongly correlated to child IQ compared to mother age."
   ]
  },
  {
   "cell_type": "markdown",
   "id": "8116aea9",
   "metadata": {},
   "source": [
    "# Task 3 Comments:\n",
    "\n",
    "- Child IQ's are skewed towards the 80-120 range\n",
    "- It seems that mother IQ and mother high school education correlate with child IQ\n",
    "- There is no significant relationship between mother workload and mother age with child IQ\n",
    "- Added mother age group and mother education combined with workload as columns for analysis"
   ]
  },
  {
   "cell_type": "markdown",
   "id": "c126786b",
   "metadata": {},
   "source": [
    "# Task 4: Prediction Models"
   ]
  },
  {
   "cell_type": "markdown",
   "id": "655228ea",
   "metadata": {},
   "source": [
    "## 4.1: Using a single predictor"
   ]
  },
  {
   "cell_type": "code",
   "execution_count": null,
   "id": "fb636d72",
   "metadata": {},
   "outputs": [],
   "source": [
    "# Create a function to check different columns to use for linear regression with a single predictor\n",
    "# Use Ordinary Least Squares Regression\n",
    "\n",
    "def single_predictor(col_name):\n",
    "    model = smf.ols(formula=\"child_iq ~ \" + col_name, data=df).fit()\n",
    "    print(model.summary())\n",
    "    return model\n",
    "\n",
    "# Create plotting function\n",
    "\n",
    "def plot_single_predictor(model, col_name):\n",
    "    intercept, slope = model.params \n",
    "    df_X = df[col_name].values.reshape(-1, 1)\n",
    "    df_Y = df['child_iq'].values.reshape(-1, 1)\n",
    "    pred_Y = slope * df_X + intercept # y = mx + b\n",
    "\n",
    "    plt.scatter(df_X, df_Y)\n",
    "    plt.plot(df_X, pred_Y, color='red')\n",
    "    plt.xlabel(col_name)\n",
    "    plt.ylabel('child_iq')\n",
    "    plt.show()"
   ]
  },
  {
   "cell_type": "code",
   "execution_count": null,
   "id": "623f2408",
   "metadata": {},
   "outputs": [],
   "source": [
    "# Use mother IQ as a predictor\n",
    "\n",
    "model = single_predictor('mother_iq')"
   ]
  },
  {
   "cell_type": "code",
   "execution_count": null,
   "id": "865e679d",
   "metadata": {},
   "outputs": [],
   "source": [
    "plot_single_predictor(model, 'mother_iq')"
   ]
  },
  {
   "cell_type": "code",
   "execution_count": null,
   "id": "c500f7da",
   "metadata": {},
   "outputs": [],
   "source": [
    "# Use mother age as a predictor\n",
    "\n",
    "model = single_predictor('mother_age')"
   ]
  },
  {
   "cell_type": "code",
   "execution_count": null,
   "id": "d6cd601e",
   "metadata": {},
   "outputs": [],
   "source": [
    "# Data is not suited for linear regression\n",
    "\n",
    "plot_single_predictor(model, 'mother_age')"
   ]
  },
  {
   "cell_type": "markdown",
   "id": "d944287d",
   "metadata": {},
   "source": [
    "## 4.1 Comments:\n",
    "\n",
    "- Based on the regression results, the `mother_iq` column provides the best linear regression model using a single predictor\n",
    "- Assumptions:\n",
    "    - Mother IQ and child IQ have some correlation (0.45)\n",
    "- Coefficients:\n",
    "    - R^2 = 0.201, higher than R^2 for the other model\n",
    "    - `mother_iq` had a coefficient of 0.3338, positive correlation between `child_iq` and `mother_iq`\n",
    "    - P>|t| = 0, 0% chance `mother_iq` has no effect on `child_iq`\n",
    "    - Skew = -0.324, our data is slightly skewed"
   ]
  },
  {
   "cell_type": "markdown",
   "id": "f8c67137",
   "metadata": {},
   "source": [
    "## 4.2: Using multiple predictors"
   ]
  },
  {
   "cell_type": "code",
   "execution_count": null,
   "id": "76f04f67",
   "metadata": {
    "scrolled": true
   },
   "outputs": [],
   "source": [
    "# Model using child IQ, mother IQ, mother work, mother education, and mother age group\n",
    "\n",
    "model = smf.ols(formula=\"child_iq ~ mother_iq + mother_hs + mother_age_group + mother_work\", data=df).fit()\n",
    "print(model.summary())"
   ]
  },
  {
   "cell_type": "code",
   "execution_count": null,
   "id": "1deac308",
   "metadata": {
    "scrolled": true
   },
   "outputs": [],
   "source": [
    "# Model using only mother IQ and mother high school education\n",
    "\n",
    "model = smf.ols(formula=\"child_iq ~ mother_iq + mother_hs\", data=df).fit()\n",
    "print(model.summary())"
   ]
  },
  {
   "cell_type": "markdown",
   "id": "fbb890d1",
   "metadata": {},
   "source": [
    "## 4.2 Comments:\n",
    "\n",
    "- Using multiple predictors seems to improve the model slightly\n",
    "- The first model using mother IQ, mother workload, mother age group, mother workload, and mother education produces a better model\n",
    "- Coefficients:\n",
    "    - R^2 = 0.225, higher than R^2 for models in previous section\n",
    "    - Largest positive correlation between `child_iq` and `mother_iq` (coefficient of 0.3156), all other variables had a lower, positive correlation\n",
    "    - P>|t| = 0, 0% chance `mother_iq` has no effect on `child_iq`\n",
    "    - Higher P>|t| values for `mother_age_group` and `mother_work`, higher probability they have no effect on `child_iq`, consistent with my findings in section 3\n",
    "    - Skew = -0.278, our data is slightly skewed, but less than my best model from section 4.1"
   ]
  },
  {
   "cell_type": "markdown",
   "id": "55e8dcc8",
   "metadata": {},
   "source": [
    "## 4.3 Using multiple predictors with an interaction term"
   ]
  },
  {
   "cell_type": "code",
   "execution_count": null,
   "id": "023ffc07",
   "metadata": {},
   "outputs": [],
   "source": [
    "model = smf.ols(formula=\"child_iq ~ mother_iq + mother_edu_work + mother_age_group + mother_iq:mother_edu_work\", data=df).fit()\n",
    "print(model.summary())"
   ]
  },
  {
   "cell_type": "code",
   "execution_count": null,
   "id": "86b2591a",
   "metadata": {},
   "outputs": [],
   "source": [
    "model = smf.ols(formula=\"child_iq ~ mother_iq + mother_edu_work + mother_iq:mother_edu_work\", data=df).fit()\n",
    "print(model.summary())"
   ]
  },
  {
   "cell_type": "markdown",
   "id": "e2411b01",
   "metadata": {},
   "source": [
    "## 4.3 Comments:\n",
    "\n",
    "- Using multiple predictors and an interaction term seems to improve the model slightly\n",
    "- The first model using mother IQ, mother education with workload, and mother age group with an interaction term between mother IQ and mother education and mother workload produces a better model (R^2 = 0.242, adjusted R^2 = 0.222)\n",
    "- Coefficients:\n",
    "    - R^2 = 0.242, higher than R^2 for models in previous sections\n",
    "    - Largest positive correlation between `child_iq` and `mother_iq` interacting with `mother_edu_work`(value 1) (coefficient of 0.2492)\n",
    "        - Value 1: Mother did not work in first 3 years of child\\'s life (w = 1) and mother did not graduate from high school (h = 0) OR Mother worked in second or third year of child\\'s life (w = 2) and mother graduated from high school (h = 1)\n",
    "    - Some other variables had a lower, positive correlation with `child_iq`: `mother_iq`, `mother_iq` interacting with `mother_edu_work` except for Type 3 work, and `mother_age_group`\n",
    "    - `mother_edu_work` had a negative correlation with `child_iq` (most significant coefficient was -0.1360)\n",
    "    - P>|t| = 0.012, ~1% chance `mother_iq` has no effect on `child_iq`\n",
    "    - Very high (greater than 0.8) P>|t| values for `mother_iq` interacting with `mother_edu_work` (value 3) and `mother_edu_work` (value 3), high probability they have no effect on `child_iq`\n",
    "        - Value 3: Mother worked full-time in first year of child\\'s life (w = 4) and mother graduated from high school (h = 1) OR Mother worked part-time in first year of child\\'s life (w = 3) and mother did not graduate from high school (h = 0)\n",
    "    - Skew = -0.338, our data is slightly skewed"
   ]
  },
  {
   "cell_type": "markdown",
   "id": "8439e57b",
   "metadata": {},
   "source": [
    "# Closing Words\n",
    "\n",
    "Using multiple predictors with an interaction term produced the best linear regression model. However, the models produced here leave much to be desired in terms of predicting child IQ from the given data. "
   ]
  }
 ],
 "metadata": {
  "kernelspec": {
   "display_name": "Python 3",
   "language": "python",
   "name": "python3"
  },
  "language_info": {
   "codemirror_mode": {
    "name": "ipython",
    "version": 3
   },
   "file_extension": ".py",
   "mimetype": "text/x-python",
   "name": "python",
   "nbconvert_exporter": "python",
   "pygments_lexer": "ipython3",
   "version": "3.8.8"
  }
 },
 "nbformat": 4,
 "nbformat_minor": 5
}
